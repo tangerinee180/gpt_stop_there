{
  "cells": [
    {
      "cell_type": "markdown",
      "metadata": {},
      "source": [
        "---\n",
        "title: \"CPI\"\n",
        "editor: visual\n",
        "jupyter: python3\n",
        "---\n",
        "\n",
        "\n",
        "\n",
        "\n",
        "-   **CPI: 소비자물가지수란?**\n",
        "\n",
        "------------------------------------------------------------------------\n",
        "\n",
        "![](./CPI.PNG)\n",
        "\n",
        "CPI(소비자 물가 지수) : 소비자들이 일상 생활에서 구매하는 상품과 서비스의 가격 변동을 측정하는 지표이다. 그 측정을 위해 다양한 소비자 Basket을 사용하며, 일반적인 CPI의 Basket엔 식품, 주택, 의류, 교통, 교육, 의료 등 모든 상품과 서비스가 포함된다. 예시로 식품 물가 지수의 Basket 안엔 음식만 들어가있다고 보면 된다.\n",
        "\n",
        "## CPI(소비자 물가 지수)\n",
        "\n",
        "-   데이터 파일 읽어오기\n"
      ],
      "id": "ca89532d"
    },
    {
      "cell_type": "code",
      "metadata": {},
      "source": [
        "df = pd.read_excel(\"file/cpi_2011to2023.xlsx\")\n",
        "df.head()"
      ],
      "id": "76b434a8",
      "execution_count": null,
      "outputs": []
    },
    {
      "cell_type": "markdown",
      "metadata": {},
      "source": [
        "-   컬럼명 변경, 행 제거, 특정 컬럼 추출\n"
      ],
      "id": "629d37c7"
    },
    {
      "cell_type": "code",
      "metadata": {},
      "source": [
        "df.rename(columns = {'시점':\"year\",\"전국\" : \"cpi\",\"전국.2\":\"food_cpi\"},inplace=True)\n",
        "df.drop(0,inplace=True) \n",
        "df=df[['year','cpi','food_cpi']]\n",
        "df.reset_index(drop=True,inplace=True)"
      ],
      "id": "194c2f66",
      "execution_count": null,
      "outputs": []
    },
    {
      "cell_type": "markdown",
      "metadata": {},
      "source": [
        "-   **inplace = True**\\\n",
        "    df.drop(0,inplace=True) 와 df = df.drop(0) 같은 의미이다.\n",
        "\n",
        "-   **reset_index(drop=True)**\\\n",
        "    인덱스 번호를 초기화하는 함수로 drop=True 해야 전 인덱스 번호가 사라진다.\n",
        "\n",
        "-   최저시급 열 추가\n"
      ],
      "id": "794f0570"
    },
    {
      "cell_type": "code",
      "metadata": {},
      "source": [
        "list = [\"4,320\",\"4,580\",\"4,860\",\"5,210\",\"5,580\",\"6,030\",\"6,470\",\\\n",
        "        \"7,530\",\"8,350\",\"8,590\",\"8,720\",\"9,160\",\"9,620\"]\n",
        "df['min_wage'] = np.array(list)\n",
        "df = df[['year',\"min_wage\", 'cpi', 'food_cpi']]\n",
        "df.head()"
      ],
      "id": "f508f6bf",
      "execution_count": null,
      "outputs": []
    },
    {
      "cell_type": "markdown",
      "metadata": {},
      "source": [
        "-   최저시급과 연도 컬럼 정수형으로 변경\n"
      ],
      "id": "0d675b91"
    },
    {
      "cell_type": "code",
      "metadata": {},
      "source": [
        "type(df[\"min_wage\"][0])\n",
        "type(df[\"year\"][0])\n",
        "df[\"min_wage\"] = df[\"min_wage\"].str.replace(',',\"\").astype(int) \n",
        "df[\"year\"] = df[\"year\"].astype(int) \n",
        "type(df[\"min_wage\"][0])\n",
        "type(df[\"year\"][0])"
      ],
      "id": "a6a00d0b",
      "execution_count": null,
      "outputs": []
    },
    {
      "cell_type": "code",
      "metadata": {},
      "source": [
        "df"
      ],
      "id": "8184b90d",
      "execution_count": null,
      "outputs": []
    },
    {
      "cell_type": "markdown",
      "metadata": {},
      "source": [
        "-   소비자 물가 지수 기준을 2011년으로 변환\n"
      ],
      "id": "7f1aa648"
    },
    {
      "cell_type": "code",
      "metadata": {},
      "source": [
        "cpi_coefficent=df['cpi'][0]/df['cpi'][9]\n",
        "food_coefficent=df['food_cpi'][0]/df['food_cpi'][9]\n",
        "df[\"cpi\"] = df[\"cpi\"]/cpi_coefficent\n",
        "df[\"food_cpi\"] = df[\"food_cpi\"]/food_coefficent\n",
        "df.head()"
      ],
      "id": "46d8b34c",
      "execution_count": null,
      "outputs": []
    },
    {
      "cell_type": "markdown",
      "metadata": {},
      "source": [
        "### 인플레이션\n",
        "\n",
        "**우리가 흔히 알고 있는 인플레이션율이란 물가 상승률로, CPI의 변화율로 측정할 수 있다. 일반적인 국가에선 물가는 지속적으로 상승하기 때문에 인플레이션은 대부분 양수로 나타난다.**\n",
        "\n",
        "![](./inflation.PNG)\n",
        "\n",
        "-   인플레이션 계산\n"
      ],
      "id": "094918e3"
    },
    {
      "cell_type": "code",
      "metadata": {},
      "source": [
        "df[\"inflation\"] = 0.0\n",
        "\n",
        "for i in range(1, len(df)):\n",
        "    df.loc[i, \"inflation\"] = ((df.loc[i, \"cpi\"] - df.loc[i-1, \"cpi\"])\\\n",
        "    /df.loc[i-1, \"cpi\"]) * 100\n",
        "df.head()"
      ],
      "id": "85cd9004",
      "execution_count": null,
      "outputs": []
    },
    {
      "cell_type": "markdown",
      "metadata": {},
      "source": [
        "-   식품 인플레이션 계산\n"
      ],
      "id": "33eb0286"
    },
    {
      "cell_type": "code",
      "metadata": {
        "messeage": false
      },
      "source": [
        "#| warning: false\n",
        "df['food_inflation'] = 0\n",
        "for i in range(1, len(df)):\\\n",
        "    df.loc[i, \"food_inflation\"] = ((df.loc[i, \"food_cpi\"] - df.loc[i-1, \"food_cpi\"])\\\n",
        "   /df.loc[i-1, \"food_cpi\"]) * 100\n",
        "df['food_inflation'] = df['food_inflation'].fillna(0)\n",
        "df.head()"
      ],
      "id": "99f231c9",
      "execution_count": null,
      "outputs": []
    },
    {
      "cell_type": "markdown",
      "metadata": {},
      "source": [
        "### 인플레이션, 식품 인플레이션 비교 그래프\n"
      ],
      "id": "84696b82"
    },
    {
      "cell_type": "code",
      "metadata": {},
      "source": [
        "plt.clf()\n",
        "plt.figure(figsize=(5.5,4))\n",
        "sns.lineplot(data=df, x='year', y='food_inflation',color='red' ,label='식품 인플레이션', marker='o')\n",
        "sns.lineplot(data=df, x='year', y='inflation',color='dodgerblue',label='인플레이션', marker='o')\n",
        "# 레이블과 제목 설정\n",
        "plt.xlabel('Year',fontsize=16)\n",
        "plt.ylabel('Percentage(%)',fontsize=16)\n",
        "plt.title('소비자 물가지수와 식품 물가지수의 상승률 비교')\n",
        "plt.legend()\n",
        "# 그래프 표시\n",
        "plt.show()"
      ],
      "id": "5ba453af",
      "execution_count": null,
      "outputs": []
    },
    {
      "cell_type": "markdown",
      "metadata": {},
      "source": [
        "**실제 소비자가 체감하는 물가상승률이 더 크다.**\n",
        "\n",
        "**실질적인 최저 시급을 구하기 위해서 인플레이션 조정계수를 구한후 최저 시급에 곱했다. 인플레이션 조정 계수를 곱함으로써 물가의 영향을 제거할 수 있다.**\n",
        "\n",
        "-   최저시급, 실질 최저시급 상승률\n"
      ],
      "id": "93d11142"
    },
    {
      "cell_type": "code",
      "metadata": {
        "messeage": false
      },
      "source": [
        "#| warning: false\n",
        "\n",
        "infla_coefficient = np.array(100/df['cpi'])\n",
        "\n",
        "df['real_wage'] = df['min_wage'] * infla_coefficient\n",
        "df['real_wage'] = df['real_wage'].astype(int)\n",
        "\n",
        "df[\"real_wage_roc\"] = 0\n",
        "for i in range(1, len(df)):\n",
        "    df.loc[i, \"real_wage_roc\"] = ((df.loc[i, \"real_wage\"] - df.loc[i-1, \"real_wage\"])\\\n",
        "   /df.loc[i-1, \"real_wage\"]) * 100\n",
        "\n",
        "df[\"min_wage_roc\"] = 0\n",
        "for i in range(1, len(df)):\n",
        "    df.loc[i, \"min_wage_roc\"] = ((df.loc[i, \"min_wage\"] - df.loc[i-1, \"min_wage\"])\\\n",
        "   /df.loc[i-1, \"min_wage\"]) * 100\n",
        "\n",
        "df = df[['year', 'min_wage','real_wage',\"min_wage_roc\",\"real_wage_roc\",\\\n",
        "         'cpi', 'food_cpi', 'inflation', 'food_inflation']]\n",
        "df.head()"
      ],
      "id": "fd05a21e",
      "execution_count": null,
      "outputs": []
    },
    {
      "cell_type": "markdown",
      "metadata": {},
      "source": [
        "### 최저시급/ 실질 최저시급 상승률 비교\n"
      ],
      "id": "2a693327"
    },
    {
      "cell_type": "code",
      "metadata": {},
      "source": [
        "plt.figure(figsize=(5.5,4))\n",
        "sns.lineplot(data=df,x='year',y='min_wage_roc',color='red',label=' 최저시급 변화율',marker='o')\n",
        "sns.lineplot(data=df,x='year',y='real_wage_roc',color='dodgerblue',label='실질 최저시급 변화율',marker='o')\n",
        "# 레이블과 제목 설정\n",
        "plt.xlabel('Year',fontsize=16)\n",
        "plt.ylabel('Percentage(%)',fontsize=16)\n",
        "plt.ylim(-2, 17)\n",
        "plt.grid()\n",
        "plt.title('최저시급과 실질 최저시급의 변화율 비교')\n",
        "plt.legend()\n",
        "plt.show()"
      ],
      "id": "680522a1",
      "execution_count": null,
      "outputs": []
    },
    {
      "cell_type": "markdown",
      "metadata": {},
      "source": [
        "**\"실질 최저시급\"의 상승률이 모든 연도에서 최저시급의 상승률보다 낮다.** **또한 2021 \\~ 2022년도 같은 경우 최저 시급이 상승했음에도 실질 최저 시급이 하락했다.**"
      ],
      "id": "a3d2bba9"
    }
  ],
  "metadata": {
    "kernelspec": {
      "name": "python3",
      "language": "python",
      "display_name": "Python 3 (ipykernel)",
      "path": "C:\\DS\\python\\Python312\\share\\jupyter\\kernels\\python3"
    }
  },
  "nbformat": 4,
  "nbformat_minor": 5
}